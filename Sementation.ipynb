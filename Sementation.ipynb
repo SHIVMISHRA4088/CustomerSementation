{
 "cells": [
  {
   "cell_type": "code",
   "execution_count": 3,
   "id": "04f91c44-833d-4718-9ea5-88b27d8a90c1",
   "metadata": {},
   "outputs": [],
   "source": [
    "# Install required libraries (if not already installed)\n",
    "# pip install pandas numpy scikit-learn matplotlib seaborn nltk\n",
    "\n",
    "import pandas as pd\n",
    "import numpy as np\n",
    "import re\n",
    "import matplotlib.pyplot as plt\n",
    "import seaborn as sns\n",
    "from sklearn.feature_extraction.text import TfidfVectorizer\n",
    "from sklearn.cluster import KMeans\n",
    "from sklearn.metrics import silhouette_score, davies_bouldin_score, silhouette_samples\n",
    "import nltk\n",
    "from nltk.corpus import stopwords\n",
    "from collections import Counter\n"
   ]
  },
  {
   "cell_type": "code",
   "execution_count": 4,
   "id": "73ef87a7-1461-473b-a1a4-2e6cc2e20068",
   "metadata": {},
   "outputs": [
    {
     "name": "stderr",
     "output_type": "stream",
     "text": [
      "[nltk_data] Downloading package stopwords to\n",
      "[nltk_data]     C:\\Users\\Administrator\\AppData\\Roaming\\nltk_data...\n",
      "[nltk_data]   Unzipping corpora\\stopwords.zip.\n"
     ]
    },
    {
     "data": {
      "text/plain": [
       "True"
      ]
     },
     "execution_count": 4,
     "metadata": {},
     "output_type": "execute_result"
    }
   ],
   "source": [
    "#  Download NLTK stopwords\n",
    "nltk.download('stopwords')\n"
   ]
  },
  {
   "cell_type": "code",
   "execution_count": 5,
   "id": "23f3fa4d-a442-4fa5-b952-2d277c3d3e80",
   "metadata": {},
   "outputs": [],
   "source": [
    "#  Load dataset\n",
    "df = pd.read_csv('training.1600000.processed.noemoticon.csv', encoding='latin-1', header=None)\n",
    "df.columns = ['target', 'id', 'date', 'flag', 'user', 'text']\n"
   ]
  },
  {
   "cell_type": "code",
   "execution_count": 7,
   "id": "5ead3fb6-09c1-45e4-b355-b575e49b93b0",
   "metadata": {},
   "outputs": [],
   "source": [
    "#  Sample subset for faster processing\n",
    "df_sample = df.sample(n=10000, random_state=42).copy()\n"
   ]
  },
  {
   "cell_type": "code",
   "execution_count": 8,
   "id": "8c1a9ca6-b550-43a8-b475-efd3760fae58",
   "metadata": {},
   "outputs": [],
   "source": [
    "#  Clean tweet text\n",
    "def clean_text(text):\n",
    "    text = re.sub(r\"http\\S+\", \"\", text)  # Remove URLs\n",
    "    text = re.sub(r\"@\\w+\", \"\", text)     # Remove mentions\n",
    "    text = re.sub(r\"#\\w+\", \"\", text)     # Remove hashtags\n",
    "    text = re.sub(r\"[^a-zA-Z\\s]\", \"\", text)  # Remove special characters\n",
    "    text = text.lower()\n",
    "    words = text.split()\n",
    "    words = [word for word in words if word not in stopwords.words('english')]\n",
    "    return \" \".join(words)\n",
    "\n",
    "df_sample['clean_text'] = df_sample['text'].apply(clean_text)\n"
   ]
  },
  {
   "cell_type": "code",
   "execution_count": 9,
   "id": "e78e0ad0-4d18-4882-8ca0-58f7480dbb80",
   "metadata": {},
   "outputs": [],
   "source": [
    " #TF-IDF Vectorization\n",
    "tfidf = TfidfVectorizer(max_features=1000)\n",
    "X_tfidf = tfidf.fit_transform(df_sample['clean_text'])\n"
   ]
  },
  {
   "cell_type": "code",
   "execution_count": 10,
   "id": "766d9d0f-b43d-43fb-999f-45825928bc40",
   "metadata": {},
   "outputs": [],
   "source": [
    "#  Elbow Method to find optimal K\n",
    "inertia = []\n",
    "K_range = range(2, 11)\n",
    "for k in K_range:\n",
    "    model = KMeans(n_clusters=k, random_state=42)\n",
    "    model.fit(X_tfidf)\n",
    "    inertia.append(model.inertia_)\n"
   ]
  },
  {
   "cell_type": "code",
   "execution_count": 11,
   "id": "c2c2da59-d339-4f79-ba5a-da0306c56b06",
   "metadata": {},
   "outputs": [
    {
     "data": {
      "image/png": "[encoded data removed]",
      "text/plain": [
       "<Figure size 640x480 with 1 Axes>"
      ]
     },
     "metadata": {},
     "output_type": "display_data"
    }
   ],
   "source": [
    "#  Plot Elbow Curve\n",
    "plt.plot(K_range, inertia, marker='o')\n",
    "plt.title(\"Elbow Method\")\n",
    "plt.xlabel(\"K\")\n",
    "plt.ylabel(\"Inertia\")\n",
    "plt.grid(True)\n",
    "plt.show()\n"
   ]
  },
  {
   "cell_type": "code",
   "execution_count": 12,
   "id": "b5ad38cc-d5c8-4071-b586-48a437a55a30",
   "metadata": {},
   "outputs": [],
   "source": [
    "#  Apply KMeans with chosen K\n",
    "optimal_k = 5\n",
    "kmeans = KMeans(n_clusters=optimal_k, random_state=42)\n",
    "labels = kmeans.fit_predict(X_tfidf)\n",
    "df_sample['Cluster'] = labels\n"
   ]
  },
  {
   "cell_type": "code",
   "execution_count": 14,
   "id": "0293137e-0393-4217-895f-30b36a0525ba",
   "metadata": {},
   "outputs": [
    {
     "name": "stdout",
     "output_type": "stream",
     "text": [
      "\n",
      "Average Silhouette Score per Cluster:\n",
      "Cluster\n",
      "0    0.034398\n",
      "1    0.009850\n",
      "2    0.067475\n",
      "3    0.076000\n",
      "4    0.032108\n",
      "Name: silhouette, dtype: float64\n"
     ]
    }
   ],
   "source": [
    "#  Silhouette Scores per cluster\n",
    "sil_samples = silhouette_samples(X_tfidf, labels)\n",
    "df_sample['silhouette'] = sil_samples\n",
    "print(\"\\nAverage Silhouette Score per Cluster:\")\n",
    "print(df_sample.groupby('Cluster')['silhouette'].mean())\n"
   ]
  },
  {
   "cell_type": "code",
   "execution_count": 15,
   "id": "ebf005cb-8fd6-49b8-a764-0d81c6e3301c",
   "metadata": {},
   "outputs": [
    {
     "name": "stdout",
     "output_type": "stream",
     "text": [
      "\n",
      "Top Words per Cluster:\n",
      "\n",
      "Cluster 0: [('hope', 205), ('tonight', 110), ('good', 37), ('get', 31), ('well', 30), ('day', 29), ('u', 26), ('see', 23), ('better', 23), ('soon', 20)]\n",
      "\n",
      "Cluster 1: [('good', 485), ('day', 414), ('like', 401), ('get', 401), ('dont', 386), ('go', 365), ('today', 319), ('work', 315), ('got', 312), ('love', 312)]\n",
      "\n",
      "Cluster 2: [('new', 242), ('get', 19), ('im', 17), ('cant', 16), ('love', 15), ('wait', 14), ('like', 14), ('today', 14), ('album', 13), ('day', 13)]\n",
      "\n",
      "Cluster 3: [('working', 121), ('im', 18), ('day', 15), ('going', 9), ('today', 8), ('like', 8), ('well', 8), ('new', 8), ('work', 8), ('get', 7)]\n",
      "\n",
      "Cluster 4: [('im', 1041), ('going', 89), ('get', 68), ('sorry', 65), ('lol', 60), ('good', 54), ('go', 52), ('know', 49), ('still', 48), ('dont', 47)]\n"
     ]
    }
   ],
   "source": [
    "#  Top Words in Each Cluster\n",
    "print(\"\\nTop Words per Cluster:\")\n",
    "for i in range(optimal_k):\n",
    "    words = ' '.join(df_sample[df_sample['Cluster'] == i]['clean_text']).split()\n",
    "    top_words = Counter(words).most_common(10)\n",
    "    print(f\"\\nCluster {i}: {top_words}\")\n"
   ]
  },
  {
   "cell_type": "code",
   "execution_count": 16,
   "id": "d3a5dadf-b0a9-42c1-aaaf-7a0a98ccc9e9",
   "metadata": {},
   "outputs": [
    {
     "name": "stdout",
     "output_type": "stream",
     "text": [
      "\n",
      "Cluster vs Sentiment (0 = Negative, 4 = Positive):\n",
      "target      0     4\n",
      "Cluster            \n",
      "0         140   166\n",
      "1        4125  4245\n",
      "2          84   149\n",
      "3          73    47\n",
      "4         582   389\n"
     ]
    }
   ],
   "source": [
    " #Compare Clusters with Original Sentiment Labels\n",
    "print(\"\\nCluster vs Sentiment (0 = Negative, 4 = Positive):\")\n",
    "print(pd.crosstab(df_sample['Cluster'], df_sample['target']))\n"
   ]
  },
  {
   "cell_type": "code",
   "execution_count": 18,
   "id": "25912e94-6636-402f-9d31-4f880e9a3d11",
   "metadata": {},
   "outputs": [
    {
     "name": "stdout",
     "output_type": "stream",
     "text": [
      "\n",
      " Sample Tweets from Cluster 0:\n",
      "            @chrishasboobs AHHH I HOPE YOUR OK!!! \n",
      "                   Off to Whipsnade  Hope it's dry\n",
      "Roast in the cooker and cakes in the oven soon....\n",
      "\n",
      " Sample Tweets from Cluster 1:\n",
      "@misstoriblack cool , i have no tweet apps  for...\n",
      "@TiannaChaos i know  just family drama. its lam...\n",
      "School email won't open  and I have geography s...\n",
      "\n",
      " Sample Tweets from Cluster 2:\n",
      "@KingdomGuard welcome new cd out this week...ma...\n",
      "@PaulaAbdul awww, Good luck Paula!! Please don'...\n",
      "@mileycyrus Green Day new cd on the 15th and yo...\n",
      "\n",
      " Sample Tweets from Cluster 3:\n",
      "Working on photos from Hillsong's 1 year celebr...\n",
      "tried to check out your site @poeticmindset ......\n",
      "Working today. Closing. 2 - 11. Missing out on ...\n",
      "\n",
      " Sample Tweets from Cluster 4:\n",
      "@PerezHilton Zach makes me pee sitting down! An...\n",
      "i'm feeling quite sleepy today, wish i could st...\n",
      "im turning 18 one week from now  but i don't fe...\n"
     ]
    }
   ],
   "source": [
    "#  Sample Tweets per Cluster\n",
    "for i in range(optimal_k):\n",
    "    print(f\"\\n Sample Tweets from Cluster {i}:\")\n",
    "    print(df_sample[df_sample['Cluster'] == i]['text'].head(3).to_string(index=False))\n"
   ]
  }
 ],
 "metadata": {
  "kernelspec": {
   "display_name": "Python 3 (ipykernel)",
   "language": "python",
   "name": "python3"
  },
  "language_info": {
   "codemirror_mode": {
    "name": "ipython",
    "version": 3
   },
   "file_extension": ".py",
   "mimetype": "text/x-python",
   "name": "python",
   "nbconvert_exporter": "python",
   "pygments_lexer": "ipython3",
   "version": "3.13.2"
  }
 },
 "nbformat": 4,
 "nbformat_minor": 5
}
